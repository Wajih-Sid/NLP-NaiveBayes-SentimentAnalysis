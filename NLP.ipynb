{
 "cells": [
  {
   "cell_type": "markdown",
   "metadata": {},
   "source": [
    "# Start"
   ]
  },
  {
   "cell_type": "code",
   "execution_count": 23,
   "metadata": {},
   "outputs": [],
   "source": [
    "import csv\n",
    "import pandas as pd\n",
    "import os\n",
    "import numpy as np\n",
    "import sklearn\n",
    "from sklearn.model_selection import train_test_split\n",
    "from sklearn.feature_extraction.text import ENGLISH_STOP_WORDS\n",
    "\n",
    "target_file = 'reviews.csv'\n",
    "\n",
    "test_data = []\n",
    "train_data = []\n",
    "\n",
    "\n",
    "def convert_file():\n",
    "    if os.path.isfile(target_file):\n",
    "        return\n",
    "\n",
    "    with open('reviews.tsv','rb') as fin:\n",
    "        cr = csv.reader(fin, delimiter='\\t')\n",
    "        filecontents = [line for line in cr]\n",
    "\n",
    "    with open(target_file,'wb') as fou:\n",
    "        cw = csv.writer(fou, quoting=csv.QUOTE_ALL,escapechar='\\\\')\n",
    "        cw.writerows(filecontents)\n",
    "\n",
    "def divide_by_rankings():\n",
    "    colnames = ['rating', 'text']\n",
    "    contents = pd.read_csv(target_file, names=colnames, header=None)\n",
    "\n",
    "    contents['rating'] = contents['rating'].astype(int)\n",
    "\n",
    "    train_data, test_data = train_test_split(contents, test_size=0.2)\n",
    "    negative_rankings = train_data[train_data['rating'] < 3]\n",
    "    neutral_documents = train_data[train_data['rating'] == 3]\n",
    "    positive_rankings = train_data[train_data['rating'] > 3]\n",
    "\n",
    "    return negative_rankings, neutral_documents, positive_rankings\n",
    "\n",
    "def tokenize(docs, file_name):\n",
    "    \n",
    "    if os.path.isfile(file_name):\n",
    "        os.remove(file_name)\n",
    "\n",
    "    tokens = docs['text'].values\n",
    "    tokens = ' '.join(tokens).split()\n",
    "#     tokens = set(tokens)\n",
    "    tokens = [str(x.lower()) for x in tokens if x not in ENGLISH_STOP_WORDS]\n",
    "\n",
    "    with open(file_name, 'w') as the_file:\n",
    "        the_file.write('\\n'.join(tokens))\n",
    "        \n",
    "def main():\n",
    "    convert_file()\n",
    "    \n",
    "\n",
    "if __name__ == \"__main__\":\n",
    "    main()"
   ]
  },
  {
   "cell_type": "markdown",
   "metadata": {},
   "source": [
    "# Breaking by Rankings"
   ]
  },
  {
   "cell_type": "code",
   "execution_count": 24,
   "metadata": {},
   "outputs": [],
   "source": [
    "negative_docs, neutral_docs, positive_docs = divide_by_rankings()"
   ]
  },
  {
   "cell_type": "markdown",
   "metadata": {},
   "source": [
    "# Tokenize"
   ]
  },
  {
   "cell_type": "code",
   "execution_count": 25,
   "metadata": {},
   "outputs": [],
   "source": [
    "tokenize(negative_docs, 'negative.txt')\n",
    "tokenize(neutral_docs, 'neutral.txt')\n",
    "tokenize(positive_docs, 'positive.txt')"
   ]
  },
  {
   "cell_type": "markdown",
   "metadata": {},
   "source": [
    "# Creating Vocab List"
   ]
  },
  {
   "cell_type": "code",
   "execution_count": 27,
   "metadata": {},
   "outputs": [],
   "source": [
    "mega_doc_pos = open(os.getcwd() + '/positive.txt', 'r').read()\n",
    "mega_doc_neg = open(os.getcwd() + '/negative.txt', 'r').read()\n",
    "mega_doc_neu = open(os.getcwd() + '/neutral.txt', 'r').read()\n",
    "\n",
    "total_words_in_pos = mega_doc_pos.split('\\n')\n",
    "total_words_in_neg = mega_doc_neg.split('\\n')\n",
    "\n",
    "vocab_pos = list(set(total_words_in_pos))\n",
    "vocab_neg = list(set(total_words_in_neg))\n",
    "\n",
    "positive_class_probability = 0.5\n",
    "negaitive_class_probability = 0.5\n"
   ]
  },
  {
   "cell_type": "markdown",
   "metadata": {},
   "source": [
    "# Classification"
   ]
  },
  {
   "cell_type": "code",
   "execution_count": 45,
   "metadata": {},
   "outputs": [],
   "source": [
    "def classify(sentence):\n",
    "    \n",
    "    sentence_probab_pos = {}\n",
    "    \n",
    "    for x in sentence.split(' '):\n",
    "        count_of_word_in_vocab = total_words_in_pos.count(x)\n",
    "        sentence_probab_pos[x] = float(((count_of_word_in_vocab) + 1)) / (len(total_words_in_pos) + len(vocab_pos))\n",
    "\n",
    "    sentence_probab_neg = {}\n",
    "\n",
    "    for x in sentence.split(' '):\n",
    "        count_of_word_in_vocab = total_words_in_neg.count(x)\n",
    "        sentence_probab_neg[x] = float(((count_of_word_in_vocab) + 1)) / (len(total_words_in_neg) + len(vocab_neg))\n",
    "\n",
    "    positive = positive_class_probability * reduce(lambda x, y: x*y, sentence_probab_pos.values())\n",
    "    negative = negaitive_class_probability * reduce(lambda x, y: x*y, sentence_probab_neg.values())\n",
    "    \n",
    "    return int(positive > negative)"
   ]
  },
  {
   "cell_type": "code",
   "execution_count": 48,
   "metadata": {},
   "outputs": [
    {
     "name": "stdout",
     "output_type": "stream",
     "text": [
      "Positive\n"
     ]
    }
   ],
   "source": [
    "sentence = \"All about horrible schools and friends\"\n",
    "review = {0: \"Positive\", 1: \"Negative\"}\n",
    "label = classify(sentence)\n",
    "print review.get(label)"
   ]
  }
 ],
 "metadata": {
  "kernelspec": {
   "display_name": "Python 2",
   "language": "python",
   "name": "python2"
  },
  "language_info": {
   "codemirror_mode": {
    "name": "ipython",
    "version": 2
   },
   "file_extension": ".py",
   "mimetype": "text/x-python",
   "name": "python",
   "nbconvert_exporter": "python",
   "pygments_lexer": "ipython2",
   "version": "2.7.14"
  }
 },
 "nbformat": 4,
 "nbformat_minor": 2
}
