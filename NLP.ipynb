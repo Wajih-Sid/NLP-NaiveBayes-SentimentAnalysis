{
 "cells": [
  {
   "cell_type": "markdown",
   "metadata": {},
   "source": [
    "# Start"
   ]
  },
  {
   "cell_type": "code",
   "execution_count": 56,
   "metadata": {},
   "outputs": [
    {
     "name": "stdout",
     "output_type": "stream",
     "text": [
      "CPU times: user 129 µs, sys: 0 ns, total: 129 µs\n",
      "Wall time: 135 µs\n"
     ]
    }
   ],
   "source": [
    "%%time\n",
    "import pandas as pd\n",
    "import os, re\n",
    "import nltk\n",
    "import numpy as np\n",
    "import sklearn\n",
    "from sklearn.model_selection import train_test_split\n",
    "from sklearn.feature_extraction.text import ENGLISH_STOP_WORDS\n",
    "from sklearn import metrics\n",
    "import matplotlib.pyplot as plt\n",
    "from nltk import PorterStemmer\n",
    "\n",
    "\n",
    "ps = PorterStemmer()\n",
    "\n",
    "\n",
    "target_file = 'reviews.csv'\n",
    "\n",
    "def _clean_tokenize_sentence(sentence):\n",
    "    \n",
    "    words = []\n",
    "    for word in sentence.split(\" \"):\n",
    "        token = re.sub('[^A-Za-z0-9]+', '', word).strip().lower()\n",
    "        \n",
    "        if token.isdigit():\n",
    "            continue\n",
    "            \n",
    "        token = ps.stem(token)\n",
    "        \n",
    "        if len(token) and token not in list(ENGLISH_STOP_WORDS):\n",
    "            words.append(token)  \n",
    "    \n",
    "    conv_words = [x[0] for x in nltk.pos_tag(words) if x[1] not in ['NN', 'PRP', 'TO', 'IN']]\n",
    "    return sorted(conv_words)\n",
    "\n",
    "\n",
    "def convert_file():\n",
    "    if os.path.isfile(target_file):\n",
    "        return\n",
    "\n",
    "    with open('reviews.tsv','rb') as fin:\n",
    "        cr = csv.reader(fin, delimiter='\\t')\n",
    "        filecontents = [line for line in cr]\n",
    "\n",
    "    with open(target_file,'wb') as fou:\n",
    "        cw = csv.writer(fou, quoting=csv.QUOTE_ALL,escapechar='\\\\')\n",
    "        cw.writerows(filecontents)\n",
    "\n",
    "def divide_by_rankings():\n",
    "    global contents\n",
    "    colnames = ['rating', 'text']\n",
    "    contents = pd.read_csv(target_file, names=colnames, header=None)\n",
    "\n",
    "    contents['rating'] = contents['rating'].astype(int)\n",
    "    \n",
    "    review_plit = contents['rating'].hist(bins=30, figsize=(10,10))\n",
    "    review_plit.set_title(\"Book Reviews\")\n",
    "    review_plit.set_xlabel(\"Ratings\")\n",
    "    review_plit.set_ylabel(\"Rating Value\")\n",
    "\n",
    "    global train_data\n",
    "    global test_data\n",
    "    \n",
    "    train_data, test_data = train_test_split(contents, test_size=0.2)\n",
    "    negative_rankings = train_data[train_data['rating'] < 3]\n",
    "    neutral_documents = train_data[train_data['rating'] == 3]\n",
    "    positive_rankings = train_data[train_data['rating'] > 3]\n",
    "\n",
    "    return negative_rankings, neutral_documents, positive_rankings\n",
    "\n",
    "def tokenize(docs, file_name):\n",
    "    \n",
    "    if os.path.isfile(file_name):\n",
    "        return\n",
    "\n",
    "    tokens = docs['text'].values\n",
    "    tokens = ' '.join(tokens)\n",
    "    \n",
    "    tokens = _clean_tokenize_sentence(tokens)\n",
    "\n",
    "    with open(file_name, 'w') as the_file:\n",
    "        the_file.write('\\n'.join(tokens))\n",
    "        \n",
    "def main():\n",
    "    convert_file()\n",
    "    \n",
    "\n",
    "if __name__ == \"__main__\":\n",
    "    main()"
   ]
  },
  {
   "cell_type": "markdown",
   "metadata": {},
   "source": [
    "# Breaking by Rankings"
   ]
  },
  {
   "cell_type": "code",
   "execution_count": 57,
   "metadata": {},
   "outputs": [
    {
     "data": {
      "image/png": "[encoded data removed]",
      "text/plain": [
       "<matplotlib.figure.Figure at 0x7f1edd8fcd50>"
      ]
     },
     "metadata": {},
     "output_type": "display_data"
    }
   ],
   "source": [
    "negative_docs, neutral_docs, positive_docs = divide_by_rankings()"
   ]
  },
  {
   "cell_type": "markdown",
   "metadata": {},
   "source": [
    "# Tokenize"
   ]
  },
  {
   "cell_type": "code",
   "execution_count": 73,
   "metadata": {},
   "outputs": [
    {
     "name": "stdout",
     "output_type": "stream",
     "text": [
      "CPU times: user 2min 41s, sys: 448 ms, total: 2min 41s\n",
      "Wall time: 2min 42s\n"
     ]
    }
   ],
   "source": [
    "%%time\n",
    "tokenize(negative_docs, 'negative.txt')\n",
    "tokenize(neutral_docs, 'neutral.txt')\n",
    "tokenize(positive_docs, 'positive.txt')"
   ]
  },
  {
   "cell_type": "markdown",
   "metadata": {},
   "source": [
    "# Creating Vocab List"
   ]
  },
  {
   "cell_type": "code",
   "execution_count": 74,
   "metadata": {},
   "outputs": [
    {
     "name": "stdout",
     "output_type": "stream",
     "text": [
      "CPU times: user 1min 19s, sys: 91.9 ms, total: 1min 19s\n",
      "Wall time: 1min 19s\n"
     ]
    }
   ],
   "source": [
    "%%time\n",
    "\n",
    "mega_doc_pos = open(os.getcwd() + '/positive.txt', 'r').read()\n",
    "mega_doc_neg = open(os.getcwd() + '/negative.txt', 'r').read()\n",
    "mega_doc_neu = open(os.getcwd() + '/neutral.txt', 'r').read()\n",
    "\n",
    "total_words_in_pos = mega_doc_pos.split('\\n')\n",
    "total_words_in_neg = mega_doc_neg.split('\\n')\n",
    "\n",
    "vocab_pos = list(set(total_words_in_pos))\n",
    "vocab_neg = list(set(total_words_in_neg))\n",
    "\n",
    "vocab = set(vocab_pos + vocab_neg)\n",
    "\n",
    "positive_class_probability = 0.7\n",
    "negaitive_class_probability = 0.3\n",
    "\n",
    "\n",
    "pos_dict = {}\n",
    "neg_dict = {}\n",
    "\n",
    "\n",
    "def create_tf_dicts():\n",
    "    \n",
    "    for word in vocab_pos:\n",
    "        pos_dict[word] = total_words_in_pos.count(word)\n",
    "        \n",
    "    for word in vocab_neg:\n",
    "        neg_dict[word] = total_words_in_neg.count(word)\n",
    "    \n",
    "create_tf_dicts()"
   ]
  },
  {
   "cell_type": "markdown",
   "metadata": {},
   "source": [
    "# Classification"
   ]
  },
  {
   "cell_type": "code",
   "execution_count": 75,
   "metadata": {},
   "outputs": [
    {
     "name": "stdout",
     "output_type": "stream",
     "text": [
      "CPU times: user 9 µs, sys: 0 ns, total: 9 µs\n",
      "Wall time: 13.1 µs\n"
     ]
    }
   ],
   "source": [
    "%%time\n",
    "\n",
    "def classify(sentence):\n",
    "    sentence_probab_pos = {}\n",
    "    sentence_probab_neg = {}\n",
    "    words = _clean_tokenize_sentence(sentence)\n",
    "    \n",
    "    for x in words:\n",
    "        count_of_word_in_vocab = pos_dict.get(x, 0)\n",
    "        sentence_probab_pos[x] = float(((count_of_word_in_vocab) + 1)) / (len(total_words_in_pos) + len(vocab))\n",
    "\n",
    "        count_of_word_in_vocab = neg_dict.get(x, 0)\n",
    "        sentence_probab_neg[x] = float(((count_of_word_in_vocab) + 1)) / (len(total_words_in_neg) + len(vocab))\n",
    "\n",
    "    positive = positive_class_probability * np.prod(sentence_probab_pos.values())\n",
    "    negative = negaitive_class_probability * np.prod(sentence_probab_neg.values())\n",
    "    \n",
    "\n",
    "    label = int(positive > negative)\n",
    "    return label"
   ]
  },
  {
   "cell_type": "code",
   "execution_count": 76,
   "metadata": {},
   "outputs": [
    {
     "name": "stdout",
     "output_type": "stream",
     "text": [
      "0 0 1 1\n",
      "CPU times: user 66.7 ms, sys: 8.28 ms, total: 75 ms\n",
      "Wall time: 81.5 ms\n"
     ]
    }
   ],
   "source": [
    "%%time\n",
    "sentence1 = \"Ok~ but I think the Keirsey Temperment Test is more accurate - and cheaper.  This book has its good points. If anything, it helps you put into words what you want  from a supervisor, but it is not very accurate. The online test does not account for a difference between when 2 of their options are both exactly like you, or if they don't describe you at all. This messes up the results, and it did not describe me very well. I am not just in denial. I have taken a lot of personality type tests, like the Keirsey Temperment sorter and have a pretty good idea of my strengths. So, although this book is pretty good in making you understand the importance of incouraging your strengths, it still leaves you wondering about how you fit in to their terminology.  As for using this book as a manager to better serve your employees, I'v seen it done and it does not necessarily work because the strengths spit out for people were not wholly accurate. The company I work for has done this, and most of the people who were shifted around to better serve their strengths (according to this book) are very unhappy in their new positions.  Your money can be spent better elsewhere. I say its only worth about $10\"\n",
    "sentence2 = \"terrible for independent study  Though this book does present all the necessary information for learning about abnormal psychology, it's the dryest, most aesthetically difficult to read textbook... especially if you happen to be studying the material online/through independent study.  The publisher needs to redesign the book and/or you need to have a better online course professor. It feels nearly impossible to be interested in this material (which is interesting in itself) if you have to read the textbook front to back on your own without any instruction.\"\n",
    "sentence3 = \"Excellent resource for principals!  I am ordering copies for all 23 middle school principals and the two assistant principals leading two middle school programs in the Milwaukee Public Schools system. We will use Wheatley's book as the primary resource  for our professional growth at our MPS Middle School Principals  Collaborative institute August 9-11, 1999. We are not just concerned with  reform; we seek renewal as well. Wheatley provides the basis. She notes  that Einstein said that  a problem cannot be solved from the same  consciousness that created it. The entire book is a marvelous exploration  of this philosophy\"\n",
    "sentence4 = \"Best Leadership book I have read  I have been studing leadership for over 15 years both by reading and experience.  I consider this book to be the best book I have read because it describes leadership as a learned activity.  It also says that leadership is in motivating people to do their own work in solving difficult problems. I found that as President of my congregation I was continually going back to the concepts in the book to lead it through a very difficult situation involving placement of the flags in the sanctuary.  It was very difficult to get people to do their own work and not try to step in to solve everything. (That would have been impossible anyway) I found that he described President Lyndon Johnson as a successful leader (civil rights) and unsuccessful leader ( Vietnam).  His discussion on leading without authority is new ground for me.    If you want to discuss the book with others there is an on-line book study at the Work and Worship Institute website. I found it was a good way for me to get more from the book. This is a great book with great stories of a variety of leaders in our society.\"\n",
    "\n",
    "print classify(sentence1), classify(sentence2), classify(sentence3), classify(sentence4)"
   ]
  },
  {
   "cell_type": "markdown",
   "metadata": {},
   "source": [
    "# Confusion Matrix"
   ]
  },
  {
   "cell_type": "code",
   "execution_count": 77,
   "metadata": {},
   "outputs": [
    {
     "name": "stdout",
     "output_type": "stream",
     "text": [
      "0\n",
      "500\n",
      "1000\n",
      "1500\n",
      "[194, 141, 226, 1439]\n",
      "CPU times: user 42 s, sys: 154 ms, total: 42.2 s\n",
      "Wall time: 42.4 s\n"
     ]
    }
   ],
   "source": [
    "%%time\n",
    "\n",
    "predictions = []\n",
    "    \n",
    "def _map_rating(rating):    \n",
    "    return +(rating > 3)\n",
    "\n",
    "def get_confusion_matrix():    \n",
    "    conf_matrix = [0, 0, 0, 0]\n",
    "    count = 0\n",
    "    \n",
    "    rating_map = {\n",
    "        '00': 0,  #TN\n",
    "        '01': 1,  #FN\n",
    "        '10': 2,  #FP\n",
    "        '11': 3   #TP\n",
    "    }\n",
    "    \n",
    "    for idx, record in test_data.iterrows():\n",
    "        \n",
    "        if not count % 500:\n",
    "            print count\n",
    "            \n",
    "        count += 1\n",
    "            \n",
    "        true_rating = _map_rating(+record['rating'])\n",
    "        predicted_rating = classify(record['text'])\n",
    "\n",
    "        predictions.append(predicted_rating)\n",
    "        \n",
    "        rating = '{}{}'.format(str(predicted_rating), str(true_rating))\n",
    "        conf_matrix[rating_map.get(rating)] += 1\n",
    "    \n",
    "    return conf_matrix\n",
    "\n",
    "\n",
    "conf_matrix = get_confusion_matrix()\n",
    "print conf_matrix"
   ]
  },
  {
   "cell_type": "markdown",
   "metadata": {},
   "source": [
    "# ROC Curve"
   ]
  },
  {
   "cell_type": "code",
   "execution_count": 78,
   "metadata": {},
   "outputs": [],
   "source": [
    "def CreateROCCurve(y_test, predictions, classifier_name):\n",
    "    fpr, tpr, thresholds = metrics.roc_curve(y_test, predictions)\n",
    "    roc_auc = metrics.auc(fpr, tpr)\n",
    "    plt.title('Receiver Operating Characteristic for ' + classifier_name)\n",
    "    plt.plot(fpr, tpr, 'b', label = 'AUC = %0.2f' % roc_auc)\n",
    "    plt.legend(loc = 'lower right')\n",
    "    plt.plot([0, 1], [0, 1],'r--')\n",
    "    plt.xlim([0, 1])\n",
    "    plt.ylim([0, 1])\n",
    "    plt.ylabel('True Positive Rate')\n",
    "    plt.xlabel('False Positive Rate')\n",
    "    plt.show()"
   ]
  },
  {
   "cell_type": "code",
   "execution_count": 79,
   "metadata": {},
   "outputs": [
    {
     "data": {
      "image/png": "[encoded data removed]",
      "text/plain": [
       "<matplotlib.figure.Figure at 0x7f1f8dcd78d0>"
      ]
     },
     "metadata": {},
     "output_type": "display_data"
    },
    {
     "name": "stdout",
     "output_type": "stream",
     "text": [
      "Accuracy is 0.817\n",
      "Precision is 0.864\n",
      "Recall is 0.911\n"
     ]
    }
   ],
   "source": [
    "from sklearn import metrics\n",
    "import matplotlib.pyplot as plt\n",
    "test_data_ratings = [int(_map_rating(x)) for x in test_data['rating'].values]\n",
    "\n",
    "CreateROCCurve(test_data_ratings, predictions, 'Naive-Bayes Classifier')\n",
    "\n",
    "tn = conf_matrix[0]\n",
    "fn = conf_matrix[1]\n",
    "fp = conf_matrix[2]\n",
    "tp = conf_matrix[3]\n",
    "\n",
    "accuracy = float(tn+tp)/(sum(conf_matrix))\n",
    "precision = float(tp)/(tp+fp)\n",
    "recall = float(tp)/(tp+fn)\n",
    "\n",
    "print \"Accuracy is %.3f\" % accuracy\n",
    "print \"Precision is %.3f\" % precision\n",
    "print \"Recall is %.3f\" % recall"
   ]
  },
  {
   "cell_type": "markdown",
   "metadata": {},
   "source": [
    "# Using Library Functions"
   ]
  },
  {
   "cell_type": "code",
   "execution_count": 100,
   "metadata": {},
   "outputs": [
    {
     "name": "stdout",
     "output_type": "stream",
     "text": [
      "('1-gram to', '1-gram accuracy:', 0.7195588235294118)\n",
      "('1-gram to', '2-gram accuracy:', 0.6739705882352941)\n",
      "('1-gram to', '3-gram accuracy:', 0.6589705882352941)\n",
      "('1-gram to', '4-gram accuracy:', 0.6601470588235294)\n",
      "CPU times: user 3min 33s, sys: 2.41 s, total: 3min 35s\n",
      "Wall time: 3min 36s\n"
     ]
    }
   ],
   "source": [
    "%%time \n",
    "import nltk.classify.util\n",
    "from nltk.classify import NaiveBayesClassifier\n",
    "from nltk.corpus import movie_reviews\n",
    "from nltk.corpus import stopwords\n",
    "from nltk.tokenize import word_tokenize\n",
    "from nltk import everygrams\n",
    "\n",
    "def create_ngram_features(words, n=2):\n",
    "    ngram_vocab = everygrams(words, 1, n)\n",
    "    my_dict = dict([(ng, True) for ng in ngram_vocab])\n",
    "    return my_dict\n",
    "\n",
    "for n in range(1,5):\n",
    "    pos_data = []\n",
    "    count = 0\n",
    "    \n",
    "    for idx, doc in positive_docs.iterrows():\n",
    "        \n",
    "        words = doc['text'].split(\" \")\n",
    "        pos_data.append((create_ngram_features(words, n), \"positive\"))    \n",
    "\n",
    "    neg_data = []\n",
    "    for idx, doc in negative_docs.iterrows():\n",
    "        words = doc['text'].split(\" \")\n",
    "        neg_data.append((create_ngram_features(words, n), \"negative\")) \n",
    "\n",
    "    train_set = pos_data[:800] + neg_data[:400]\n",
    "    test_set =  pos_data[800:] + neg_data[400:]\n",
    "    \n",
    "    \n",
    "    classifier = NaiveBayesClassifier.train(train_set)\n",
    "\n",
    "    accuracy = nltk.classify.util.accuracy(classifier, test_set)\n",
    "    print('1-gram to', str(n)+'-gram accuracy:', accuracy)"
   ]
  },
  {
   "cell_type": "code",
   "execution_count": null,
   "metadata": {},
   "outputs": [],
   "source": []
  },
  {
   "cell_type": "code",
   "execution_count": null,
   "metadata": {},
   "outputs": [],
   "source": []
  }
 ],
 "metadata": {
  "kernelspec": {
   "display_name": "Python 2",
   "language": "python",
   "name": "python2"
  },
  "language_info": {
   "codemirror_mode": {
    "name": "ipython",
    "version": 2
   },
   "file_extension": ".py",
   "mimetype": "text/x-python",
   "name": "python",
   "nbconvert_exporter": "python",
   "pygments_lexer": "ipython2",
   "version": "2.7.14"
  }
 },
 "nbformat": 4,
 "nbformat_minor": 2
}
